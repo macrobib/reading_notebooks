{
 "cells": [
  {
   "cell_type": "markdown",
   "metadata": {},
   "source": [
    " ####  [ **1. Model Based Vehicle Tracking for Autonomous Driving in Urban Environments**  ](http://www.roboticsproceedings.org/rss04/p23.pdf) \n",
    "\n",
    "##### Overview\n",
    "\n",
    "Proposes a moving vehicle tracking module that uses dynamic and geometric properties of the tracked vehicle and estimates them using single bayes filter per tracked object.\n",
    "\n",
    "##### Key points\n",
    "\n",
    "Model based tracking : What geometric primitives to use and which scenarios to have there applicability.\n",
    "Dynamic properties: What corresponds to be a dynamic property? Is this the same as descriptor vs feature separation mentioned in the ICP documentation.\n",
    "\n",
    "Common approaches to tracking: data segmentation and association before doing a filter update stage. Commonly vehicle speed and position are tracked. \n",
    "\n",
    "- This paper introduces model based approach which encompasses both geometric and dynamic properties of the tracked vehicle. Concept of anchor point coordinates are introduced to model the same.\n",
    "- An abstract sensor representation called virtual scan is introduced to model the sensor detection and ease the detection in the point cloud.\n"
   ]
  },
  {
   "cell_type": "code",
   "execution_count": null,
   "metadata": {},
   "outputs": [],
   "source": []
  }
 ],
 "metadata": {
  "kernelspec": {
   "display_name": "Python 3",
   "language": "python",
   "name": "python3"
  },
  "language_info": {
   "codemirror_mode": {
    "name": "ipython",
    "version": 3
   },
   "file_extension": ".py",
   "mimetype": "text/x-python",
   "name": "python",
   "nbconvert_exporter": "python",
   "pygments_lexer": "ipython3",
   "version": "3.6.3"
  }
 },
 "nbformat": 4,
 "nbformat_minor": 2
}
